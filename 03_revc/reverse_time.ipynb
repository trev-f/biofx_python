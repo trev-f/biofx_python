{
 "cells": [
  {
   "attachments": {},
   "cell_type": "markdown",
   "metadata": {},
   "source": [
    "# Reverse time\n",
    "\n",
    "## Purpose\n",
    "\n",
    "The purpose of this notebook is to time how long it takes for different strategies of reversing DNA strings."
   ]
  },
  {
   "cell_type": "code",
   "execution_count": 18,
   "metadata": {},
   "outputs": [],
   "source": [
    "import reverse"
   ]
  },
  {
   "cell_type": "code",
   "execution_count": 19,
   "metadata": {},
   "outputs": [],
   "source": [
    "dna_ten = reverse.generate_dna_seq(length=10, seed=10)\n",
    "dna_thou = reverse.generate_dna_seq(length=1_000, seed=10)\n",
    "dna_mill = reverse.generate_dna_seq(length=1_000_000, seed=10)"
   ]
  },
  {
   "cell_type": "code",
   "execution_count": 20,
   "metadata": {},
   "outputs": [
    {
     "name": "stdout",
     "output_type": "stream",
     "text": [
      "102 ns ± 6.09 ns per loop (mean ± std. dev. of 4 runs, 10,000,000 loops each)\n",
      "1.28 µs ± 23.3 ns per loop (mean ± std. dev. of 4 runs, 1,000,000 loops each)\n",
      "1.19 ms ± 127 µs per loop (mean ± std. dev. of 4 runs, 1,000 loops each)\n"
     ]
    }
   ],
   "source": [
    "time_result_slice_ten = %timeit -r 4 dna_ten[::-1]\n",
    "time_result_slice_thou = %timeit -r 4 dna_thou[::-1]\n",
    "time_result_slice_mill = %timeit -r 4 dna_mill[::-1]"
   ]
  },
  {
   "cell_type": "code",
   "execution_count": 21,
   "metadata": {},
   "outputs": [
    {
     "name": "stdout",
     "output_type": "stream",
     "text": [
      "449 ns ± 29.6 ns per loop (mean ± std. dev. of 4 runs, 1,000,000 loops each)\n",
      "15.2 µs ± 2.83 µs per loop (mean ± std. dev. of 4 runs, 100,000 loops each)\n",
      "13.9 ms ± 1.02 ms per loop (mean ± std. dev. of 4 runs, 100 loops each)\n"
     ]
    }
   ],
   "source": [
    "time_result_join_ten = %timeit -r 4 ''.join(reversed(dna_ten))\n",
    "time_result_join_thou = %timeit -r 4 ''.join(reversed(dna_thou))\n",
    "time_result_join_mill = %timeit -r 4 ''.join(reversed(dna_mill))"
   ]
  }
 ],
 "metadata": {
  "kernelspec": {
   "display_name": "Python 3",
   "language": "python",
   "name": "python3"
  },
  "language_info": {
   "codemirror_mode": {
    "name": "ipython",
    "version": 3
   },
   "file_extension": ".py",
   "mimetype": "text/x-python",
   "name": "python",
   "nbconvert_exporter": "python",
   "pygments_lexer": "ipython3",
   "version": "3.10.4"
  },
  "orig_nbformat": 4,
  "vscode": {
   "interpreter": {
    "hash": "3ad933181bd8a04b432d3370b9dc3b0662ad032c4dfaa4e4f1596c548f763858"
   }
  }
 },
 "nbformat": 4,
 "nbformat_minor": 2
}
